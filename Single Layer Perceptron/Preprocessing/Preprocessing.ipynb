{
 "cells": [
  {
   "cell_type": "code",
   "execution_count": 1,
   "id": "d3adf80a",
   "metadata": {},
   "outputs": [],
   "source": [
    "import numpy as np\n",
    "import pandas as pd\n",
    "import matplotlib.pyplot as plt\n",
    "from scipy import stats\n",
    "from sklearn.linear_model import LogisticRegression\n",
    "from sklearn.metrics import accuracy_score\n",
    "import warnings\n",
    "import joblib\n",
    "warnings.filterwarnings('ignore')"
   ]
  },
  {
   "cell_type": "code",
   "execution_count": 2,
   "id": "790d7345",
   "metadata": {},
   "outputs": [
    {
     "data": {
      "text/plain": [
       "(150, 6)"
      ]
     },
     "execution_count": 2,
     "metadata": {},
     "output_type": "execute_result"
    }
   ],
   "source": [
    "dataset = pd.read_csv('E:\\Computer Science\\Projects\\Senior Year - Term 1\\DeepLearning-NeuralNetworksAssignments\\Single Layer Perceptron\\penguins.csv')\n",
    "dataset.shape"
   ]
  },
  {
   "cell_type": "code",
   "execution_count": 3,
   "id": "b1b15781",
   "metadata": {},
   "outputs": [
    {
     "data": {
      "text/html": [
       "<div>\n",
       "<style scoped>\n",
       "    .dataframe tbody tr th:only-of-type {\n",
       "        vertical-align: middle;\n",
       "    }\n",
       "\n",
       "    .dataframe tbody tr th {\n",
       "        vertical-align: top;\n",
       "    }\n",
       "\n",
       "    .dataframe thead th {\n",
       "        text-align: right;\n",
       "    }\n",
       "</style>\n",
       "<table border=\"1\" class=\"dataframe\">\n",
       "  <thead>\n",
       "    <tr style=\"text-align: right;\">\n",
       "      <th></th>\n",
       "      <th>species</th>\n",
       "      <th>bill_length_mm</th>\n",
       "      <th>bill_depth_mm</th>\n",
       "      <th>flipper_length_mm</th>\n",
       "      <th>gender</th>\n",
       "      <th>body_mass_g</th>\n",
       "    </tr>\n",
       "  </thead>\n",
       "  <tbody>\n",
       "    <tr>\n",
       "      <th>0</th>\n",
       "      <td>Adelie</td>\n",
       "      <td>39.1</td>\n",
       "      <td>18.7</td>\n",
       "      <td>181</td>\n",
       "      <td>male</td>\n",
       "      <td>3750</td>\n",
       "    </tr>\n",
       "    <tr>\n",
       "      <th>1</th>\n",
       "      <td>Adelie</td>\n",
       "      <td>39.5</td>\n",
       "      <td>17.4</td>\n",
       "      <td>186</td>\n",
       "      <td>female</td>\n",
       "      <td>3800</td>\n",
       "    </tr>\n",
       "    <tr>\n",
       "      <th>2</th>\n",
       "      <td>Adelie</td>\n",
       "      <td>40.3</td>\n",
       "      <td>18.0</td>\n",
       "      <td>195</td>\n",
       "      <td>female</td>\n",
       "      <td>3250</td>\n",
       "    </tr>\n",
       "    <tr>\n",
       "      <th>3</th>\n",
       "      <td>Adelie</td>\n",
       "      <td>39.6</td>\n",
       "      <td>17.7</td>\n",
       "      <td>186</td>\n",
       "      <td>female</td>\n",
       "      <td>3500</td>\n",
       "    </tr>\n",
       "    <tr>\n",
       "      <th>4</th>\n",
       "      <td>Adelie</td>\n",
       "      <td>36.7</td>\n",
       "      <td>19.3</td>\n",
       "      <td>193</td>\n",
       "      <td>female</td>\n",
       "      <td>3450</td>\n",
       "    </tr>\n",
       "  </tbody>\n",
       "</table>\n",
       "</div>"
      ],
      "text/plain": [
       "  species  bill_length_mm  bill_depth_mm  flipper_length_mm  gender  \\\n",
       "0  Adelie            39.1           18.7                181    male   \n",
       "1  Adelie            39.5           17.4                186  female   \n",
       "2  Adelie            40.3           18.0                195  female   \n",
       "3  Adelie            39.6           17.7                186  female   \n",
       "4  Adelie            36.7           19.3                193  female   \n",
       "\n",
       "   body_mass_g  \n",
       "0         3750  \n",
       "1         3800  \n",
       "2         3250  \n",
       "3         3500  \n",
       "4         3450  "
      ]
     },
     "execution_count": 3,
     "metadata": {},
     "output_type": "execute_result"
    }
   ],
   "source": [
    "dataset.head()"
   ]
  },
  {
   "cell_type": "code",
   "execution_count": 4,
   "id": "0aa2e1fa",
   "metadata": {},
   "outputs": [
    {
     "data": {
      "text/plain": [
       "species              0\n",
       "bill_length_mm       0\n",
       "bill_depth_mm        0\n",
       "flipper_length_mm    0\n",
       "gender               6\n",
       "body_mass_g          0\n",
       "dtype: int64"
      ]
     },
     "execution_count": 4,
     "metadata": {},
     "output_type": "execute_result"
    }
   ],
   "source": [
    "dataset.isna().sum()"
   ]
  },
  {
   "cell_type": "markdown",
   "id": "5c0f5980",
   "metadata": {},
   "source": [
    "Since the null values are small and in one feature only, we can make a predictive machine learning model that can classify the gender based on the other features and the label (species) after we process the other features for the best learning, also we can train it only on the species of type Adelie and Gentoo as the null values exist only in them "
   ]
  },
  {
   "cell_type": "code",
   "execution_count": 5,
   "id": "27744b5d",
   "metadata": {},
   "outputs": [
    {
     "data": {
      "text/plain": [
       "array(['Adelie', 'Gentoo', 'Chinstrap'], dtype=object)"
      ]
     },
     "execution_count": 5,
     "metadata": {},
     "output_type": "execute_result"
    }
   ],
   "source": [
    "dataset['species'].unique()"
   ]
  },
  {
   "cell_type": "code",
   "execution_count": 6,
   "id": "12314f2a",
   "metadata": {},
   "outputs": [],
   "source": [
    "mask = dataset['gender'].isnull()==True\n",
    "nullEntries = dataset[mask]"
   ]
  },
  {
   "cell_type": "code",
   "execution_count": 7,
   "id": "2c7e6b32",
   "metadata": {},
   "outputs": [
    {
     "data": {
      "text/html": [
       "<div>\n",
       "<style scoped>\n",
       "    .dataframe tbody tr th:only-of-type {\n",
       "        vertical-align: middle;\n",
       "    }\n",
       "\n",
       "    .dataframe tbody tr th {\n",
       "        vertical-align: top;\n",
       "    }\n",
       "\n",
       "    .dataframe thead th {\n",
       "        text-align: right;\n",
       "    }\n",
       "</style>\n",
       "<table border=\"1\" class=\"dataframe\">\n",
       "  <thead>\n",
       "    <tr style=\"text-align: right;\">\n",
       "      <th></th>\n",
       "      <th>species</th>\n",
       "      <th>bill_length_mm</th>\n",
       "      <th>bill_depth_mm</th>\n",
       "      <th>flipper_length_mm</th>\n",
       "      <th>gender</th>\n",
       "      <th>body_mass_g</th>\n",
       "    </tr>\n",
       "  </thead>\n",
       "  <tbody>\n",
       "    <tr>\n",
       "      <th>8</th>\n",
       "      <td>Adelie</td>\n",
       "      <td>34.1</td>\n",
       "      <td>18.1</td>\n",
       "      <td>193</td>\n",
       "      <td>NaN</td>\n",
       "      <td>3475</td>\n",
       "    </tr>\n",
       "    <tr>\n",
       "      <th>9</th>\n",
       "      <td>Adelie</td>\n",
       "      <td>42.0</td>\n",
       "      <td>20.2</td>\n",
       "      <td>190</td>\n",
       "      <td>NaN</td>\n",
       "      <td>4250</td>\n",
       "    </tr>\n",
       "    <tr>\n",
       "      <th>10</th>\n",
       "      <td>Adelie</td>\n",
       "      <td>37.8</td>\n",
       "      <td>17.1</td>\n",
       "      <td>186</td>\n",
       "      <td>NaN</td>\n",
       "      <td>3300</td>\n",
       "    </tr>\n",
       "    <tr>\n",
       "      <th>11</th>\n",
       "      <td>Adelie</td>\n",
       "      <td>37.8</td>\n",
       "      <td>17.3</td>\n",
       "      <td>180</td>\n",
       "      <td>NaN</td>\n",
       "      <td>3700</td>\n",
       "    </tr>\n",
       "    <tr>\n",
       "      <th>47</th>\n",
       "      <td>Adelie</td>\n",
       "      <td>37.5</td>\n",
       "      <td>18.9</td>\n",
       "      <td>179</td>\n",
       "      <td>NaN</td>\n",
       "      <td>2975</td>\n",
       "    </tr>\n",
       "    <tr>\n",
       "      <th>76</th>\n",
       "      <td>Gentoo</td>\n",
       "      <td>44.5</td>\n",
       "      <td>14.3</td>\n",
       "      <td>216</td>\n",
       "      <td>NaN</td>\n",
       "      <td>4100</td>\n",
       "    </tr>\n",
       "  </tbody>\n",
       "</table>\n",
       "</div>"
      ],
      "text/plain": [
       "   species  bill_length_mm  bill_depth_mm  flipper_length_mm gender  \\\n",
       "8   Adelie            34.1           18.1                193    NaN   \n",
       "9   Adelie            42.0           20.2                190    NaN   \n",
       "10  Adelie            37.8           17.1                186    NaN   \n",
       "11  Adelie            37.8           17.3                180    NaN   \n",
       "47  Adelie            37.5           18.9                179    NaN   \n",
       "76  Gentoo            44.5           14.3                216    NaN   \n",
       "\n",
       "    body_mass_g  \n",
       "8          3475  \n",
       "9          4250  \n",
       "10         3300  \n",
       "11         3700  \n",
       "47         2975  \n",
       "76         4100  "
      ]
     },
     "execution_count": 7,
     "metadata": {},
     "output_type": "execute_result"
    }
   ],
   "source": [
    "nullEntries"
   ]
  },
  {
   "cell_type": "markdown",
   "id": "9f381839",
   "metadata": {},
   "source": [
    "Checking data normality in python: https://www.youtube.com/watch?v=12qn03Ml87E\n",
    "\n",
    "Perform data transformation for normality: https://www.youtube.com/watch?v=xOZ3DxybQKc \n",
    "\n",
    "All the features are skewed and have a negative kurtosis but feature (bill_length) is the closest to normal distribution"
   ]
  },
  {
   "cell_type": "code",
   "execution_count": 8,
   "id": "288b6b8e",
   "metadata": {},
   "outputs": [],
   "source": [
    "numericalFeatures=['bill_length_mm','bill_depth_mm','flipper_length_mm','body_mass_g']"
   ]
  },
  {
   "cell_type": "code",
   "execution_count": 9,
   "id": "b156c228",
   "metadata": {},
   "outputs": [],
   "source": [
    "def getAndVisualizeSkewness(feature):\n",
    "    print(\"Visualizing feature {feature}\".format(feature=feature))\n",
    "    plt.hist(dataset[feature])\n",
    "    plt.show()\n",
    "    print(\"{feature} is skewed by {skew}\".format(feature = feature, skew = stats.skew(dataset[feature])))\n",
    "    print(\"{feature}'s kurtosis is {kurtosis}\".format(feature=feature,kurtosis=stats.kurtosis(dataset['bill_length_mm'])))\n",
    "    print('-'*40)"
   ]
  },
  {
   "cell_type": "code",
   "execution_count": 10,
   "id": "10a59919",
   "metadata": {},
   "outputs": [
    {
     "name": "stdout",
     "output_type": "stream",
     "text": [
      "Visualizing feature bill_length_mm\n"
     ]
    },
    {
     "data": {
      "image/png": "[encoded data removed]",
      "text/plain": [
       "<Figure size 432x288 with 1 Axes>"
      ]
     },
     "metadata": {
      "needs_background": "light"
     },
     "output_type": "display_data"
    },
    {
     "name": "stdout",
     "output_type": "stream",
     "text": [
      "bill_length_mm is skewed by -0.06641719610055938\n",
      "bill_length_mm's kurtosis is -0.6742701075458375\n",
      "----------------------------------------\n",
      "Visualizing feature bill_depth_mm\n"
     ]
    },
    {
     "data": {
      "image/png": "[encoded data removed]",
      "text/plain": [
       "<Figure size 432x288 with 1 Axes>"
      ]
     },
     "metadata": {
      "needs_background": "light"
     },
     "output_type": "display_data"
    },
    {
     "name": "stdout",
     "output_type": "stream",
     "text": [
      "bill_depth_mm is skewed by -0.27593119719466996\n",
      "bill_depth_mm's kurtosis is -0.6742701075458375\n",
      "----------------------------------------\n",
      "Visualizing feature flipper_length_mm\n"
     ]
    },
    {
     "data": {
      "image/png": "[encoded data removed]",
      "text/plain": [
       "<Figure size 432x288 with 1 Axes>"
      ]
     },
     "metadata": {
      "needs_background": "light"
     },
     "output_type": "display_data"
    },
    {
     "name": "stdout",
     "output_type": "stream",
     "text": [
      "flipper_length_mm is skewed by 0.2560871930501646\n",
      "flipper_length_mm's kurtosis is -0.6742701075458375\n",
      "----------------------------------------\n",
      "Visualizing feature body_mass_g\n"
     ]
    },
    {
     "data": {
      "image/png": "[encoded data removed]",
      "text/plain": [
       "<Figure size 432x288 with 1 Axes>"
      ]
     },
     "metadata": {
      "needs_background": "light"
     },
     "output_type": "display_data"
    },
    {
     "name": "stdout",
     "output_type": "stream",
     "text": [
      "body_mass_g is skewed by 0.6280893933409006\n",
      "body_mass_g's kurtosis is -0.6742701075458375\n",
      "----------------------------------------\n"
     ]
    }
   ],
   "source": [
    "for feature in numericalFeatures:\n",
    "    getAndVisualizeSkewness(feature)"
   ]
  },
  {
   "cell_type": "markdown",
   "id": "5d86302b",
   "metadata": {},
   "source": [
    "All of these transformation functions will also result in a skewed data, so another solution is to transform according to different measures,\n",
    "\n",
    "body mass is in grams -> convert to kilograms\n",
    "\n",
    "flipper length in millimeters -> convert to meters\n",
    "\n",
    "scaling would not affect skewness, but at least all the numbers will be in the same range"
   ]
  },
  {
   "cell_type": "code",
   "execution_count": 11,
   "id": "cbc2f9ea",
   "metadata": {},
   "outputs": [],
   "source": [
    "def transform(feature):\n",
    "    print(\"{0}\".format(feature))\n",
    "    transformedFeature = dataset[feature].transform([np.sqrt,np.log,np.reciprocal])\n",
    "    transformedFeature.hist(layout=(2,2),figsize=(8,8))\n",
    "    plt.show()\n",
    "    print('-'*40)"
   ]
  },
  {
   "cell_type": "code",
   "execution_count": 12,
   "id": "78eff050",
   "metadata": {
    "scrolled": false
   },
   "outputs": [
    {
     "name": "stdout",
     "output_type": "stream",
     "text": [
      "bill_length_mm\n"
     ]
    },
    {
     "data": {
      "image/png": "[encoded data removed]",
      "text/plain": [
       "<Figure size 576x576 with 4 Axes>"
      ]
     },
     "metadata": {
      "needs_background": "light"
     },
     "output_type": "display_data"
    },
    {
     "name": "stdout",
     "output_type": "stream",
     "text": [
      "----------------------------------------\n",
      "bill_depth_mm\n"
     ]
    },
    {
     "data": {
      "image/png": "[encoded data removed]",
      "text/plain": [
       "<Figure size 576x576 with 4 Axes>"
      ]
     },
     "metadata": {
      "needs_background": "light"
     },
     "output_type": "display_data"
    },
    {
     "name": "stdout",
     "output_type": "stream",
     "text": [
      "----------------------------------------\n",
      "flipper_length_mm\n"
     ]
    },
    {
     "data": {
      "image/png": "[encoded data removed]",
      "text/plain": [
       "<Figure size 576x576 with 4 Axes>"
      ]
     },
     "metadata": {
      "needs_background": "light"
     },
     "output_type": "display_data"
    },
    {
     "name": "stdout",
     "output_type": "stream",
     "text": [
      "----------------------------------------\n",
      "body_mass_g\n"
     ]
    },
    {
     "data": {
      "image/png": "[encoded data removed]",
      "text/plain": [
       "<Figure size 576x576 with 4 Axes>"
      ]
     },
     "metadata": {
      "needs_background": "light"
     },
     "output_type": "display_data"
    },
    {
     "name": "stdout",
     "output_type": "stream",
     "text": [
      "----------------------------------------\n"
     ]
    }
   ],
   "source": [
    "for feature in numericalFeatures:\n",
    "    transform(feature)"
   ]
  },
  {
   "cell_type": "markdown",
   "id": "1e5fab5b",
   "metadata": {},
   "source": [
    "Changing body mass from grams -> kilograms\n",
    "\n",
    "Changing flipper length, bill length, bill depth from milimeters - > centimeters  "
   ]
  },
  {
   "cell_type": "code",
   "execution_count": 13,
   "id": "d7901193",
   "metadata": {},
   "outputs": [],
   "source": [
    "dataset['body_mass_g'] = dataset['body_mass_g']/1000\n",
    "dataset['flipper_length_mm'] = dataset['flipper_length_mm']/10\n",
    "dataset['bill_length_mm'] = dataset['bill_length_mm']/10\n",
    "dataset['bill_depth_mm'] =dataset['bill_depth_mm']/10\n"
   ]
  },
  {
   "cell_type": "code",
   "execution_count": 14,
   "id": "8120ab6e",
   "metadata": {},
   "outputs": [
    {
     "data": {
      "text/html": [
       "<div>\n",
       "<style scoped>\n",
       "    .dataframe tbody tr th:only-of-type {\n",
       "        vertical-align: middle;\n",
       "    }\n",
       "\n",
       "    .dataframe tbody tr th {\n",
       "        vertical-align: top;\n",
       "    }\n",
       "\n",
       "    .dataframe thead th {\n",
       "        text-align: right;\n",
       "    }\n",
       "</style>\n",
       "<table border=\"1\" class=\"dataframe\">\n",
       "  <thead>\n",
       "    <tr style=\"text-align: right;\">\n",
       "      <th></th>\n",
       "      <th>species</th>\n",
       "      <th>bill_length_mm</th>\n",
       "      <th>bill_depth_mm</th>\n",
       "      <th>flipper_length_mm</th>\n",
       "      <th>gender</th>\n",
       "      <th>body_mass_g</th>\n",
       "    </tr>\n",
       "  </thead>\n",
       "  <tbody>\n",
       "    <tr>\n",
       "      <th>0</th>\n",
       "      <td>Adelie</td>\n",
       "      <td>3.91</td>\n",
       "      <td>1.87</td>\n",
       "      <td>18.1</td>\n",
       "      <td>male</td>\n",
       "      <td>3.75</td>\n",
       "    </tr>\n",
       "    <tr>\n",
       "      <th>1</th>\n",
       "      <td>Adelie</td>\n",
       "      <td>3.95</td>\n",
       "      <td>1.74</td>\n",
       "      <td>18.6</td>\n",
       "      <td>female</td>\n",
       "      <td>3.80</td>\n",
       "    </tr>\n",
       "    <tr>\n",
       "      <th>2</th>\n",
       "      <td>Adelie</td>\n",
       "      <td>4.03</td>\n",
       "      <td>1.80</td>\n",
       "      <td>19.5</td>\n",
       "      <td>female</td>\n",
       "      <td>3.25</td>\n",
       "    </tr>\n",
       "    <tr>\n",
       "      <th>3</th>\n",
       "      <td>Adelie</td>\n",
       "      <td>3.96</td>\n",
       "      <td>1.77</td>\n",
       "      <td>18.6</td>\n",
       "      <td>female</td>\n",
       "      <td>3.50</td>\n",
       "    </tr>\n",
       "    <tr>\n",
       "      <th>4</th>\n",
       "      <td>Adelie</td>\n",
       "      <td>3.67</td>\n",
       "      <td>1.93</td>\n",
       "      <td>19.3</td>\n",
       "      <td>female</td>\n",
       "      <td>3.45</td>\n",
       "    </tr>\n",
       "  </tbody>\n",
       "</table>\n",
       "</div>"
      ],
      "text/plain": [
       "  species  bill_length_mm  bill_depth_mm  flipper_length_mm  gender  \\\n",
       "0  Adelie            3.91           1.87               18.1    male   \n",
       "1  Adelie            3.95           1.74               18.6  female   \n",
       "2  Adelie            4.03           1.80               19.5  female   \n",
       "3  Adelie            3.96           1.77               18.6  female   \n",
       "4  Adelie            3.67           1.93               19.3  female   \n",
       "\n",
       "   body_mass_g  \n",
       "0         3.75  \n",
       "1         3.80  \n",
       "2         3.25  \n",
       "3         3.50  \n",
       "4         3.45  "
      ]
     },
     "execution_count": 14,
     "metadata": {},
     "output_type": "execute_result"
    }
   ],
   "source": [
    "dataset.head()"
   ]
  },
  {
   "cell_type": "code",
   "execution_count": 15,
   "id": "f7c8f36b",
   "metadata": {},
   "outputs": [
    {
     "data": {
      "text/html": [
       "<div>\n",
       "<style scoped>\n",
       "    .dataframe tbody tr th:only-of-type {\n",
       "        vertical-align: middle;\n",
       "    }\n",
       "\n",
       "    .dataframe tbody tr th {\n",
       "        vertical-align: top;\n",
       "    }\n",
       "\n",
       "    .dataframe thead th {\n",
       "        text-align: right;\n",
       "    }\n",
       "</style>\n",
       "<table border=\"1\" class=\"dataframe\">\n",
       "  <thead>\n",
       "    <tr style=\"text-align: right;\">\n",
       "      <th></th>\n",
       "      <th>species</th>\n",
       "      <th>bill_length_mm</th>\n",
       "      <th>bill_depth_mm</th>\n",
       "      <th>flipper_length_mm</th>\n",
       "      <th>gender</th>\n",
       "      <th>body_mass_g</th>\n",
       "    </tr>\n",
       "  </thead>\n",
       "  <tbody>\n",
       "    <tr>\n",
       "      <th>0</th>\n",
       "      <td>Adelie</td>\n",
       "      <td>3.91</td>\n",
       "      <td>1.87</td>\n",
       "      <td>18.1</td>\n",
       "      <td>male</td>\n",
       "      <td>3.75</td>\n",
       "    </tr>\n",
       "    <tr>\n",
       "      <th>1</th>\n",
       "      <td>Adelie</td>\n",
       "      <td>3.95</td>\n",
       "      <td>1.74</td>\n",
       "      <td>18.6</td>\n",
       "      <td>female</td>\n",
       "      <td>3.80</td>\n",
       "    </tr>\n",
       "    <tr>\n",
       "      <th>2</th>\n",
       "      <td>Adelie</td>\n",
       "      <td>4.03</td>\n",
       "      <td>1.80</td>\n",
       "      <td>19.5</td>\n",
       "      <td>female</td>\n",
       "      <td>3.25</td>\n",
       "    </tr>\n",
       "    <tr>\n",
       "      <th>3</th>\n",
       "      <td>Adelie</td>\n",
       "      <td>3.96</td>\n",
       "      <td>1.77</td>\n",
       "      <td>18.6</td>\n",
       "      <td>female</td>\n",
       "      <td>3.50</td>\n",
       "    </tr>\n",
       "    <tr>\n",
       "      <th>4</th>\n",
       "      <td>Adelie</td>\n",
       "      <td>3.67</td>\n",
       "      <td>1.93</td>\n",
       "      <td>19.3</td>\n",
       "      <td>female</td>\n",
       "      <td>3.45</td>\n",
       "    </tr>\n",
       "  </tbody>\n",
       "</table>\n",
       "</div>"
      ],
      "text/plain": [
       "  species  bill_length_mm  bill_depth_mm  flipper_length_mm  gender  \\\n",
       "0  Adelie            3.91           1.87               18.1    male   \n",
       "1  Adelie            3.95           1.74               18.6  female   \n",
       "2  Adelie            4.03           1.80               19.5  female   \n",
       "3  Adelie            3.96           1.77               18.6  female   \n",
       "4  Adelie            3.67           1.93               19.3  female   \n",
       "\n",
       "   body_mass_g  \n",
       "0         3.75  \n",
       "1         3.80  \n",
       "2         3.25  \n",
       "3         3.50  \n",
       "4         3.45  "
      ]
     },
     "execution_count": 15,
     "metadata": {},
     "output_type": "execute_result"
    }
   ],
   "source": [
    "speciesWithNullEntriesMask = dataset['species'] != 'Chinstrap'\n",
    "speciesWithNullEntries = dataset[speciesWithNullEntriesMask]\n",
    "speciesWithNullEntries.head()"
   ]
  },
  {
   "cell_type": "code",
   "execution_count": 16,
   "id": "719c719a",
   "metadata": {},
   "outputs": [
    {
     "data": {
      "text/html": [
       "<div>\n",
       "<style scoped>\n",
       "    .dataframe tbody tr th:only-of-type {\n",
       "        vertical-align: middle;\n",
       "    }\n",
       "\n",
       "    .dataframe tbody tr th {\n",
       "        vertical-align: top;\n",
       "    }\n",
       "\n",
       "    .dataframe thead th {\n",
       "        text-align: right;\n",
       "    }\n",
       "</style>\n",
       "<table border=\"1\" class=\"dataframe\">\n",
       "  <thead>\n",
       "    <tr style=\"text-align: right;\">\n",
       "      <th></th>\n",
       "      <th>species</th>\n",
       "      <th>bill_length_mm</th>\n",
       "      <th>bill_depth_mm</th>\n",
       "      <th>flipper_length_mm</th>\n",
       "      <th>gender</th>\n",
       "      <th>body_mass_g</th>\n",
       "    </tr>\n",
       "  </thead>\n",
       "  <tbody>\n",
       "    <tr>\n",
       "      <th>8</th>\n",
       "      <td>Adelie</td>\n",
       "      <td>3.41</td>\n",
       "      <td>1.81</td>\n",
       "      <td>19.3</td>\n",
       "      <td>NaN</td>\n",
       "      <td>3.475</td>\n",
       "    </tr>\n",
       "    <tr>\n",
       "      <th>9</th>\n",
       "      <td>Adelie</td>\n",
       "      <td>4.20</td>\n",
       "      <td>2.02</td>\n",
       "      <td>19.0</td>\n",
       "      <td>NaN</td>\n",
       "      <td>4.250</td>\n",
       "    </tr>\n",
       "    <tr>\n",
       "      <th>10</th>\n",
       "      <td>Adelie</td>\n",
       "      <td>3.78</td>\n",
       "      <td>1.71</td>\n",
       "      <td>18.6</td>\n",
       "      <td>NaN</td>\n",
       "      <td>3.300</td>\n",
       "    </tr>\n",
       "    <tr>\n",
       "      <th>11</th>\n",
       "      <td>Adelie</td>\n",
       "      <td>3.78</td>\n",
       "      <td>1.73</td>\n",
       "      <td>18.0</td>\n",
       "      <td>NaN</td>\n",
       "      <td>3.700</td>\n",
       "    </tr>\n",
       "    <tr>\n",
       "      <th>47</th>\n",
       "      <td>Adelie</td>\n",
       "      <td>3.75</td>\n",
       "      <td>1.89</td>\n",
       "      <td>17.9</td>\n",
       "      <td>NaN</td>\n",
       "      <td>2.975</td>\n",
       "    </tr>\n",
       "    <tr>\n",
       "      <th>76</th>\n",
       "      <td>Gentoo</td>\n",
       "      <td>4.45</td>\n",
       "      <td>1.43</td>\n",
       "      <td>21.6</td>\n",
       "      <td>NaN</td>\n",
       "      <td>4.100</td>\n",
       "    </tr>\n",
       "  </tbody>\n",
       "</table>\n",
       "</div>"
      ],
      "text/plain": [
       "   species  bill_length_mm  bill_depth_mm  flipper_length_mm gender  \\\n",
       "8   Adelie            3.41           1.81               19.3    NaN   \n",
       "9   Adelie            4.20           2.02               19.0    NaN   \n",
       "10  Adelie            3.78           1.71               18.6    NaN   \n",
       "11  Adelie            3.78           1.73               18.0    NaN   \n",
       "47  Adelie            3.75           1.89               17.9    NaN   \n",
       "76  Gentoo            4.45           1.43               21.6    NaN   \n",
       "\n",
       "    body_mass_g  \n",
       "8         3.475  \n",
       "9         4.250  \n",
       "10        3.300  \n",
       "11        3.700  \n",
       "47        2.975  \n",
       "76        4.100  "
      ]
     },
     "execution_count": 16,
     "metadata": {},
     "output_type": "execute_result"
    }
   ],
   "source": [
    "nullEntries = speciesWithNullEntries[mask]\n",
    "nullEntries"
   ]
  },
  {
   "cell_type": "code",
   "execution_count": 17,
   "id": "7f825b57",
   "metadata": {},
   "outputs": [
    {
     "data": {
      "text/plain": [
       "Int64Index([8, 9, 10, 11, 47, 76], dtype='int64')"
      ]
     },
     "execution_count": 17,
     "metadata": {},
     "output_type": "execute_result"
    }
   ],
   "source": [
    "nullEntriesIndex = nullEntries.index\n",
    "nullEntriesIndex"
   ]
  },
  {
   "cell_type": "code",
   "execution_count": 18,
   "id": "065e304f",
   "metadata": {},
   "outputs": [
    {
     "data": {
      "text/html": [
       "<div>\n",
       "<style scoped>\n",
       "    .dataframe tbody tr th:only-of-type {\n",
       "        vertical-align: middle;\n",
       "    }\n",
       "\n",
       "    .dataframe tbody tr th {\n",
       "        vertical-align: top;\n",
       "    }\n",
       "\n",
       "    .dataframe thead th {\n",
       "        text-align: right;\n",
       "    }\n",
       "</style>\n",
       "<table border=\"1\" class=\"dataframe\">\n",
       "  <thead>\n",
       "    <tr style=\"text-align: right;\">\n",
       "      <th></th>\n",
       "      <th>species</th>\n",
       "      <th>bill_length_mm</th>\n",
       "      <th>bill_depth_mm</th>\n",
       "      <th>flipper_length_mm</th>\n",
       "      <th>gender</th>\n",
       "      <th>body_mass_g</th>\n",
       "    </tr>\n",
       "  </thead>\n",
       "  <tbody>\n",
       "    <tr>\n",
       "      <th>0</th>\n",
       "      <td>1</td>\n",
       "      <td>3.91</td>\n",
       "      <td>1.87</td>\n",
       "      <td>18.1</td>\n",
       "      <td>male</td>\n",
       "      <td>3.75</td>\n",
       "    </tr>\n",
       "    <tr>\n",
       "      <th>1</th>\n",
       "      <td>1</td>\n",
       "      <td>3.95</td>\n",
       "      <td>1.74</td>\n",
       "      <td>18.6</td>\n",
       "      <td>female</td>\n",
       "      <td>3.80</td>\n",
       "    </tr>\n",
       "    <tr>\n",
       "      <th>2</th>\n",
       "      <td>1</td>\n",
       "      <td>4.03</td>\n",
       "      <td>1.80</td>\n",
       "      <td>19.5</td>\n",
       "      <td>female</td>\n",
       "      <td>3.25</td>\n",
       "    </tr>\n",
       "    <tr>\n",
       "      <th>3</th>\n",
       "      <td>1</td>\n",
       "      <td>3.96</td>\n",
       "      <td>1.77</td>\n",
       "      <td>18.6</td>\n",
       "      <td>female</td>\n",
       "      <td>3.50</td>\n",
       "    </tr>\n",
       "    <tr>\n",
       "      <th>4</th>\n",
       "      <td>1</td>\n",
       "      <td>3.67</td>\n",
       "      <td>1.93</td>\n",
       "      <td>19.3</td>\n",
       "      <td>female</td>\n",
       "      <td>3.45</td>\n",
       "    </tr>\n",
       "    <tr>\n",
       "      <th>...</th>\n",
       "      <td>...</td>\n",
       "      <td>...</td>\n",
       "      <td>...</td>\n",
       "      <td>...</td>\n",
       "      <td>...</td>\n",
       "      <td>...</td>\n",
       "    </tr>\n",
       "    <tr>\n",
       "      <th>95</th>\n",
       "      <td>0</td>\n",
       "      <td>4.36</td>\n",
       "      <td>1.39</td>\n",
       "      <td>21.7</td>\n",
       "      <td>female</td>\n",
       "      <td>4.90</td>\n",
       "    </tr>\n",
       "    <tr>\n",
       "      <th>96</th>\n",
       "      <td>0</td>\n",
       "      <td>4.55</td>\n",
       "      <td>1.39</td>\n",
       "      <td>21.0</td>\n",
       "      <td>female</td>\n",
       "      <td>4.20</td>\n",
       "    </tr>\n",
       "    <tr>\n",
       "      <th>97</th>\n",
       "      <td>0</td>\n",
       "      <td>5.05</td>\n",
       "      <td>1.59</td>\n",
       "      <td>22.5</td>\n",
       "      <td>male</td>\n",
       "      <td>5.40</td>\n",
       "    </tr>\n",
       "    <tr>\n",
       "      <th>98</th>\n",
       "      <td>0</td>\n",
       "      <td>4.49</td>\n",
       "      <td>1.33</td>\n",
       "      <td>21.3</td>\n",
       "      <td>female</td>\n",
       "      <td>5.10</td>\n",
       "    </tr>\n",
       "    <tr>\n",
       "      <th>99</th>\n",
       "      <td>0</td>\n",
       "      <td>4.52</td>\n",
       "      <td>1.58</td>\n",
       "      <td>21.5</td>\n",
       "      <td>male</td>\n",
       "      <td>5.30</td>\n",
       "    </tr>\n",
       "  </tbody>\n",
       "</table>\n",
       "<p>100 rows × 6 columns</p>\n",
       "</div>"
      ],
      "text/plain": [
       "    species  bill_length_mm  bill_depth_mm  flipper_length_mm  gender  \\\n",
       "0         1            3.91           1.87               18.1    male   \n",
       "1         1            3.95           1.74               18.6  female   \n",
       "2         1            4.03           1.80               19.5  female   \n",
       "3         1            3.96           1.77               18.6  female   \n",
       "4         1            3.67           1.93               19.3  female   \n",
       "..      ...             ...            ...                ...     ...   \n",
       "95        0            4.36           1.39               21.7  female   \n",
       "96        0            4.55           1.39               21.0  female   \n",
       "97        0            5.05           1.59               22.5    male   \n",
       "98        0            4.49           1.33               21.3  female   \n",
       "99        0            4.52           1.58               21.5    male   \n",
       "\n",
       "    body_mass_g  \n",
       "0          3.75  \n",
       "1          3.80  \n",
       "2          3.25  \n",
       "3          3.50  \n",
       "4          3.45  \n",
       "..          ...  \n",
       "95         4.90  \n",
       "96         4.20  \n",
       "97         5.40  \n",
       "98         5.10  \n",
       "99         5.30  \n",
       "\n",
       "[100 rows x 6 columns]"
      ]
     },
     "execution_count": 18,
     "metadata": {},
     "output_type": "execute_result"
    }
   ],
   "source": [
    "speciesWithNullEntries['species'] = [1 if species =='Adelie' else 0 for species in speciesWithNullEntries['species']]\n",
    "nullEntries['species'] =  [1 if species =='Adelie' else 0 for species in nullEntries['species']]\n",
    "speciesWithNullEntries"
   ]
  },
  {
   "cell_type": "code",
   "execution_count": 19,
   "id": "8eba9ee3",
   "metadata": {},
   "outputs": [],
   "source": [
    "speciesWithNullEntries.drop(index=nullEntriesIndex, axis=0,inplace=True)"
   ]
  },
  {
   "cell_type": "code",
   "execution_count": 20,
   "id": "cca51538",
   "metadata": {},
   "outputs": [
    {
     "data": {
      "text/plain": [
       "species              0\n",
       "bill_length_mm       0\n",
       "bill_depth_mm        0\n",
       "flipper_length_mm    0\n",
       "gender               0\n",
       "body_mass_g          0\n",
       "dtype: int64"
      ]
     },
     "execution_count": 20,
     "metadata": {},
     "output_type": "execute_result"
    }
   ],
   "source": [
    "speciesWithNullEntries.isna().sum()"
   ]
  },
  {
   "cell_type": "code",
   "execution_count": 21,
   "id": "bd2a7d61",
   "metadata": {},
   "outputs": [],
   "source": [
    "speciesWithNullEntries['gender'] = [1 if gender=='female' else 0 for gender in speciesWithNullEntries['gender']]"
   ]
  },
  {
   "cell_type": "code",
   "execution_count": 22,
   "id": "9ee6e52d",
   "metadata": {},
   "outputs": [
    {
     "data": {
      "text/html": [
       "<div>\n",
       "<style scoped>\n",
       "    .dataframe tbody tr th:only-of-type {\n",
       "        vertical-align: middle;\n",
       "    }\n",
       "\n",
       "    .dataframe tbody tr th {\n",
       "        vertical-align: top;\n",
       "    }\n",
       "\n",
       "    .dataframe thead th {\n",
       "        text-align: right;\n",
       "    }\n",
       "</style>\n",
       "<table border=\"1\" class=\"dataframe\">\n",
       "  <thead>\n",
       "    <tr style=\"text-align: right;\">\n",
       "      <th></th>\n",
       "      <th>species</th>\n",
       "      <th>bill_length_mm</th>\n",
       "      <th>bill_depth_mm</th>\n",
       "      <th>flipper_length_mm</th>\n",
       "      <th>body_mass_g</th>\n",
       "    </tr>\n",
       "  </thead>\n",
       "  <tbody>\n",
       "    <tr>\n",
       "      <th>8</th>\n",
       "      <td>1</td>\n",
       "      <td>3.41</td>\n",
       "      <td>1.81</td>\n",
       "      <td>19.3</td>\n",
       "      <td>3.475</td>\n",
       "    </tr>\n",
       "    <tr>\n",
       "      <th>9</th>\n",
       "      <td>1</td>\n",
       "      <td>4.20</td>\n",
       "      <td>2.02</td>\n",
       "      <td>19.0</td>\n",
       "      <td>4.250</td>\n",
       "    </tr>\n",
       "    <tr>\n",
       "      <th>10</th>\n",
       "      <td>1</td>\n",
       "      <td>3.78</td>\n",
       "      <td>1.71</td>\n",
       "      <td>18.6</td>\n",
       "      <td>3.300</td>\n",
       "    </tr>\n",
       "    <tr>\n",
       "      <th>11</th>\n",
       "      <td>1</td>\n",
       "      <td>3.78</td>\n",
       "      <td>1.73</td>\n",
       "      <td>18.0</td>\n",
       "      <td>3.700</td>\n",
       "    </tr>\n",
       "    <tr>\n",
       "      <th>47</th>\n",
       "      <td>1</td>\n",
       "      <td>3.75</td>\n",
       "      <td>1.89</td>\n",
       "      <td>17.9</td>\n",
       "      <td>2.975</td>\n",
       "    </tr>\n",
       "    <tr>\n",
       "      <th>76</th>\n",
       "      <td>0</td>\n",
       "      <td>4.45</td>\n",
       "      <td>1.43</td>\n",
       "      <td>21.6</td>\n",
       "      <td>4.100</td>\n",
       "    </tr>\n",
       "  </tbody>\n",
       "</table>\n",
       "</div>"
      ],
      "text/plain": [
       "    species  bill_length_mm  bill_depth_mm  flipper_length_mm  body_mass_g\n",
       "8         1            3.41           1.81               19.3        3.475\n",
       "9         1            4.20           2.02               19.0        4.250\n",
       "10        1            3.78           1.71               18.6        3.300\n",
       "11        1            3.78           1.73               18.0        3.700\n",
       "47        1            3.75           1.89               17.9        2.975\n",
       "76        0            4.45           1.43               21.6        4.100"
      ]
     },
     "execution_count": 22,
     "metadata": {},
     "output_type": "execute_result"
    }
   ],
   "source": [
    "genderModel = LogisticRegression()\n",
    "y_train = speciesWithNullEntries['gender']\n",
    "x_train = speciesWithNullEntries.drop(columns=['gender'],axis=1)\n",
    "x_test = nullEntries.drop(columns=['gender'],axis=1)\n",
    "x_test"
   ]
  },
  {
   "cell_type": "code",
   "execution_count": 23,
   "id": "9a8064c0",
   "metadata": {},
   "outputs": [
    {
     "name": "stdout",
     "output_type": "stream",
     "text": [
      "the accuracy is 0.9042553191489362\n"
     ]
    },
    {
     "data": {
      "text/plain": [
       "array([1, 0, 1, 1, 1, 1], dtype=int64)"
      ]
     },
     "execution_count": 23,
     "metadata": {},
     "output_type": "execute_result"
    }
   ],
   "source": [
    "genderModel.fit(x_train,y_train)\n",
    "y_train_predicted = genderModel.predict(x_train)\n",
    "print(\"the accuracy is {0}\".format(accuracy_score(y_train,y_train_predicted)))\n",
    "y_test = genderModel.predict(x_test)\n",
    "y_test"
   ]
  },
  {
   "cell_type": "code",
   "execution_count": 24,
   "id": "215e866a",
   "metadata": {},
   "outputs": [
    {
     "data": {
      "text/plain": [
       "['genderModel.h5']"
      ]
     },
     "execution_count": 24,
     "metadata": {},
     "output_type": "execute_result"
    }
   ],
   "source": [
    "joblib.dump(genderModel,\"genderModel.h5\")"
   ]
  },
  {
   "cell_type": "code",
   "execution_count": 25,
   "id": "784e2c57",
   "metadata": {},
   "outputs": [],
   "source": [
    "nullEntries['gender'] = y_test"
   ]
  },
  {
   "cell_type": "code",
   "execution_count": 26,
   "id": "4c41781f",
   "metadata": {},
   "outputs": [
    {
     "data": {
      "text/html": [
       "<div>\n",
       "<style scoped>\n",
       "    .dataframe tbody tr th:only-of-type {\n",
       "        vertical-align: middle;\n",
       "    }\n",
       "\n",
       "    .dataframe tbody tr th {\n",
       "        vertical-align: top;\n",
       "    }\n",
       "\n",
       "    .dataframe thead th {\n",
       "        text-align: right;\n",
       "    }\n",
       "</style>\n",
       "<table border=\"1\" class=\"dataframe\">\n",
       "  <thead>\n",
       "    <tr style=\"text-align: right;\">\n",
       "      <th></th>\n",
       "      <th>species</th>\n",
       "      <th>bill_length_mm</th>\n",
       "      <th>bill_depth_mm</th>\n",
       "      <th>flipper_length_mm</th>\n",
       "      <th>gender</th>\n",
       "      <th>body_mass_g</th>\n",
       "    </tr>\n",
       "  </thead>\n",
       "  <tbody>\n",
       "    <tr>\n",
       "      <th>0</th>\n",
       "      <td>1</td>\n",
       "      <td>3.91</td>\n",
       "      <td>1.87</td>\n",
       "      <td>18.1</td>\n",
       "      <td>0</td>\n",
       "      <td>3.750</td>\n",
       "    </tr>\n",
       "    <tr>\n",
       "      <th>1</th>\n",
       "      <td>1</td>\n",
       "      <td>3.95</td>\n",
       "      <td>1.74</td>\n",
       "      <td>18.6</td>\n",
       "      <td>1</td>\n",
       "      <td>3.800</td>\n",
       "    </tr>\n",
       "    <tr>\n",
       "      <th>2</th>\n",
       "      <td>1</td>\n",
       "      <td>4.03</td>\n",
       "      <td>1.80</td>\n",
       "      <td>19.5</td>\n",
       "      <td>1</td>\n",
       "      <td>3.250</td>\n",
       "    </tr>\n",
       "    <tr>\n",
       "      <th>3</th>\n",
       "      <td>1</td>\n",
       "      <td>3.96</td>\n",
       "      <td>1.77</td>\n",
       "      <td>18.6</td>\n",
       "      <td>1</td>\n",
       "      <td>3.500</td>\n",
       "    </tr>\n",
       "    <tr>\n",
       "      <th>4</th>\n",
       "      <td>1</td>\n",
       "      <td>3.67</td>\n",
       "      <td>1.93</td>\n",
       "      <td>19.3</td>\n",
       "      <td>1</td>\n",
       "      <td>3.450</td>\n",
       "    </tr>\n",
       "    <tr>\n",
       "      <th>...</th>\n",
       "      <td>...</td>\n",
       "      <td>...</td>\n",
       "      <td>...</td>\n",
       "      <td>...</td>\n",
       "      <td>...</td>\n",
       "      <td>...</td>\n",
       "    </tr>\n",
       "    <tr>\n",
       "      <th>9</th>\n",
       "      <td>1</td>\n",
       "      <td>4.20</td>\n",
       "      <td>2.02</td>\n",
       "      <td>19.0</td>\n",
       "      <td>0</td>\n",
       "      <td>4.250</td>\n",
       "    </tr>\n",
       "    <tr>\n",
       "      <th>10</th>\n",
       "      <td>1</td>\n",
       "      <td>3.78</td>\n",
       "      <td>1.71</td>\n",
       "      <td>18.6</td>\n",
       "      <td>1</td>\n",
       "      <td>3.300</td>\n",
       "    </tr>\n",
       "    <tr>\n",
       "      <th>11</th>\n",
       "      <td>1</td>\n",
       "      <td>3.78</td>\n",
       "      <td>1.73</td>\n",
       "      <td>18.0</td>\n",
       "      <td>1</td>\n",
       "      <td>3.700</td>\n",
       "    </tr>\n",
       "    <tr>\n",
       "      <th>47</th>\n",
       "      <td>1</td>\n",
       "      <td>3.75</td>\n",
       "      <td>1.89</td>\n",
       "      <td>17.9</td>\n",
       "      <td>1</td>\n",
       "      <td>2.975</td>\n",
       "    </tr>\n",
       "    <tr>\n",
       "      <th>76</th>\n",
       "      <td>0</td>\n",
       "      <td>4.45</td>\n",
       "      <td>1.43</td>\n",
       "      <td>21.6</td>\n",
       "      <td>1</td>\n",
       "      <td>4.100</td>\n",
       "    </tr>\n",
       "  </tbody>\n",
       "</table>\n",
       "<p>100 rows × 6 columns</p>\n",
       "</div>"
      ],
      "text/plain": [
       "    species  bill_length_mm  bill_depth_mm  flipper_length_mm  gender  \\\n",
       "0         1            3.91           1.87               18.1       0   \n",
       "1         1            3.95           1.74               18.6       1   \n",
       "2         1            4.03           1.80               19.5       1   \n",
       "3         1            3.96           1.77               18.6       1   \n",
       "4         1            3.67           1.93               19.3       1   \n",
       "..      ...             ...            ...                ...     ...   \n",
       "9         1            4.20           2.02               19.0       0   \n",
       "10        1            3.78           1.71               18.6       1   \n",
       "11        1            3.78           1.73               18.0       1   \n",
       "47        1            3.75           1.89               17.9       1   \n",
       "76        0            4.45           1.43               21.6       1   \n",
       "\n",
       "    body_mass_g  \n",
       "0         3.750  \n",
       "1         3.800  \n",
       "2         3.250  \n",
       "3         3.500  \n",
       "4         3.450  \n",
       "..          ...  \n",
       "9         4.250  \n",
       "10        3.300  \n",
       "11        3.700  \n",
       "47        2.975  \n",
       "76        4.100  \n",
       "\n",
       "[100 rows x 6 columns]"
      ]
     },
     "execution_count": 26,
     "metadata": {},
     "output_type": "execute_result"
    }
   ],
   "source": [
    "speciesWithNullEntries = speciesWithNullEntries.append([nullEntries])\n",
    "speciesWithNullEntries"
   ]
  },
  {
   "cell_type": "code",
   "execution_count": 27,
   "id": "275af3ce",
   "metadata": {},
   "outputs": [],
   "source": [
    "speciesWithNullEntries['species'] = ['Adelie' if species ==1 else 'Gentoo' for species in speciesWithNullEntries['species']]\n",
    "speciesWithNullEntries ['gender']= ['female' if gender==1 else 'male' for gender in speciesWithNullEntries['gender']]"
   ]
  },
  {
   "cell_type": "code",
   "execution_count": 28,
   "id": "6379e2f4",
   "metadata": {},
   "outputs": [
    {
     "data": {
      "text/html": [
       "<div>\n",
       "<style scoped>\n",
       "    .dataframe tbody tr th:only-of-type {\n",
       "        vertical-align: middle;\n",
       "    }\n",
       "\n",
       "    .dataframe tbody tr th {\n",
       "        vertical-align: top;\n",
       "    }\n",
       "\n",
       "    .dataframe thead th {\n",
       "        text-align: right;\n",
       "    }\n",
       "</style>\n",
       "<table border=\"1\" class=\"dataframe\">\n",
       "  <thead>\n",
       "    <tr style=\"text-align: right;\">\n",
       "      <th></th>\n",
       "      <th>species</th>\n",
       "      <th>bill_length_mm</th>\n",
       "      <th>bill_depth_mm</th>\n",
       "      <th>flipper_length_mm</th>\n",
       "      <th>gender</th>\n",
       "      <th>body_mass_g</th>\n",
       "    </tr>\n",
       "  </thead>\n",
       "  <tbody>\n",
       "    <tr>\n",
       "      <th>0</th>\n",
       "      <td>Adelie</td>\n",
       "      <td>3.91</td>\n",
       "      <td>1.87</td>\n",
       "      <td>18.1</td>\n",
       "      <td>male</td>\n",
       "      <td>3.750</td>\n",
       "    </tr>\n",
       "    <tr>\n",
       "      <th>1</th>\n",
       "      <td>Adelie</td>\n",
       "      <td>3.95</td>\n",
       "      <td>1.74</td>\n",
       "      <td>18.6</td>\n",
       "      <td>female</td>\n",
       "      <td>3.800</td>\n",
       "    </tr>\n",
       "    <tr>\n",
       "      <th>2</th>\n",
       "      <td>Adelie</td>\n",
       "      <td>4.03</td>\n",
       "      <td>1.80</td>\n",
       "      <td>19.5</td>\n",
       "      <td>female</td>\n",
       "      <td>3.250</td>\n",
       "    </tr>\n",
       "    <tr>\n",
       "      <th>3</th>\n",
       "      <td>Adelie</td>\n",
       "      <td>3.96</td>\n",
       "      <td>1.77</td>\n",
       "      <td>18.6</td>\n",
       "      <td>female</td>\n",
       "      <td>3.500</td>\n",
       "    </tr>\n",
       "    <tr>\n",
       "      <th>4</th>\n",
       "      <td>Adelie</td>\n",
       "      <td>3.67</td>\n",
       "      <td>1.93</td>\n",
       "      <td>19.3</td>\n",
       "      <td>female</td>\n",
       "      <td>3.450</td>\n",
       "    </tr>\n",
       "    <tr>\n",
       "      <th>...</th>\n",
       "      <td>...</td>\n",
       "      <td>...</td>\n",
       "      <td>...</td>\n",
       "      <td>...</td>\n",
       "      <td>...</td>\n",
       "      <td>...</td>\n",
       "    </tr>\n",
       "    <tr>\n",
       "      <th>9</th>\n",
       "      <td>Adelie</td>\n",
       "      <td>4.20</td>\n",
       "      <td>2.02</td>\n",
       "      <td>19.0</td>\n",
       "      <td>male</td>\n",
       "      <td>4.250</td>\n",
       "    </tr>\n",
       "    <tr>\n",
       "      <th>10</th>\n",
       "      <td>Adelie</td>\n",
       "      <td>3.78</td>\n",
       "      <td>1.71</td>\n",
       "      <td>18.6</td>\n",
       "      <td>female</td>\n",
       "      <td>3.300</td>\n",
       "    </tr>\n",
       "    <tr>\n",
       "      <th>11</th>\n",
       "      <td>Adelie</td>\n",
       "      <td>3.78</td>\n",
       "      <td>1.73</td>\n",
       "      <td>18.0</td>\n",
       "      <td>female</td>\n",
       "      <td>3.700</td>\n",
       "    </tr>\n",
       "    <tr>\n",
       "      <th>47</th>\n",
       "      <td>Adelie</td>\n",
       "      <td>3.75</td>\n",
       "      <td>1.89</td>\n",
       "      <td>17.9</td>\n",
       "      <td>female</td>\n",
       "      <td>2.975</td>\n",
       "    </tr>\n",
       "    <tr>\n",
       "      <th>76</th>\n",
       "      <td>Gentoo</td>\n",
       "      <td>4.45</td>\n",
       "      <td>1.43</td>\n",
       "      <td>21.6</td>\n",
       "      <td>female</td>\n",
       "      <td>4.100</td>\n",
       "    </tr>\n",
       "  </tbody>\n",
       "</table>\n",
       "<p>100 rows × 6 columns</p>\n",
       "</div>"
      ],
      "text/plain": [
       "   species  bill_length_mm  bill_depth_mm  flipper_length_mm  gender  \\\n",
       "0   Adelie            3.91           1.87               18.1    male   \n",
       "1   Adelie            3.95           1.74               18.6  female   \n",
       "2   Adelie            4.03           1.80               19.5  female   \n",
       "3   Adelie            3.96           1.77               18.6  female   \n",
       "4   Adelie            3.67           1.93               19.3  female   \n",
       "..     ...             ...            ...                ...     ...   \n",
       "9   Adelie            4.20           2.02               19.0    male   \n",
       "10  Adelie            3.78           1.71               18.6  female   \n",
       "11  Adelie            3.78           1.73               18.0  female   \n",
       "47  Adelie            3.75           1.89               17.9  female   \n",
       "76  Gentoo            4.45           1.43               21.6  female   \n",
       "\n",
       "    body_mass_g  \n",
       "0         3.750  \n",
       "1         3.800  \n",
       "2         3.250  \n",
       "3         3.500  \n",
       "4         3.450  \n",
       "..          ...  \n",
       "9         4.250  \n",
       "10        3.300  \n",
       "11        3.700  \n",
       "47        2.975  \n",
       "76        4.100  \n",
       "\n",
       "[100 rows x 6 columns]"
      ]
     },
     "execution_count": 28,
     "metadata": {},
     "output_type": "execute_result"
    }
   ],
   "source": [
    "speciesWithNullEntries"
   ]
  },
  {
   "cell_type": "code",
   "execution_count": 29,
   "id": "04bd7762",
   "metadata": {},
   "outputs": [
    {
     "data": {
      "text/html": [
       "<div>\n",
       "<style scoped>\n",
       "    .dataframe tbody tr th:only-of-type {\n",
       "        vertical-align: middle;\n",
       "    }\n",
       "\n",
       "    .dataframe tbody tr th {\n",
       "        vertical-align: top;\n",
       "    }\n",
       "\n",
       "    .dataframe thead th {\n",
       "        text-align: right;\n",
       "    }\n",
       "</style>\n",
       "<table border=\"1\" class=\"dataframe\">\n",
       "  <thead>\n",
       "    <tr style=\"text-align: right;\">\n",
       "      <th></th>\n",
       "      <th>species</th>\n",
       "      <th>bill_length_mm</th>\n",
       "      <th>bill_depth_mm</th>\n",
       "      <th>flipper_length_mm</th>\n",
       "      <th>gender</th>\n",
       "      <th>body_mass_g</th>\n",
       "    </tr>\n",
       "  </thead>\n",
       "  <tbody>\n",
       "    <tr>\n",
       "      <th>0</th>\n",
       "      <td>Adelie</td>\n",
       "      <td>3.91</td>\n",
       "      <td>1.87</td>\n",
       "      <td>18.1</td>\n",
       "      <td>0</td>\n",
       "      <td>3.750</td>\n",
       "    </tr>\n",
       "    <tr>\n",
       "      <th>1</th>\n",
       "      <td>Adelie</td>\n",
       "      <td>3.95</td>\n",
       "      <td>1.74</td>\n",
       "      <td>18.6</td>\n",
       "      <td>1</td>\n",
       "      <td>3.800</td>\n",
       "    </tr>\n",
       "    <tr>\n",
       "      <th>2</th>\n",
       "      <td>Adelie</td>\n",
       "      <td>4.03</td>\n",
       "      <td>1.80</td>\n",
       "      <td>19.5</td>\n",
       "      <td>1</td>\n",
       "      <td>3.250</td>\n",
       "    </tr>\n",
       "    <tr>\n",
       "      <th>3</th>\n",
       "      <td>Adelie</td>\n",
       "      <td>3.96</td>\n",
       "      <td>1.77</td>\n",
       "      <td>18.6</td>\n",
       "      <td>1</td>\n",
       "      <td>3.500</td>\n",
       "    </tr>\n",
       "    <tr>\n",
       "      <th>4</th>\n",
       "      <td>Adelie</td>\n",
       "      <td>3.67</td>\n",
       "      <td>1.93</td>\n",
       "      <td>19.3</td>\n",
       "      <td>1</td>\n",
       "      <td>3.450</td>\n",
       "    </tr>\n",
       "    <tr>\n",
       "      <th>...</th>\n",
       "      <td>...</td>\n",
       "      <td>...</td>\n",
       "      <td>...</td>\n",
       "      <td>...</td>\n",
       "      <td>...</td>\n",
       "      <td>...</td>\n",
       "    </tr>\n",
       "    <tr>\n",
       "      <th>145</th>\n",
       "      <td>Chinstrap</td>\n",
       "      <td>5.08</td>\n",
       "      <td>1.85</td>\n",
       "      <td>20.1</td>\n",
       "      <td>0</td>\n",
       "      <td>4.450</td>\n",
       "    </tr>\n",
       "    <tr>\n",
       "      <th>146</th>\n",
       "      <td>Chinstrap</td>\n",
       "      <td>5.01</td>\n",
       "      <td>1.79</td>\n",
       "      <td>19.0</td>\n",
       "      <td>1</td>\n",
       "      <td>3.400</td>\n",
       "    </tr>\n",
       "    <tr>\n",
       "      <th>147</th>\n",
       "      <td>Chinstrap</td>\n",
       "      <td>4.90</td>\n",
       "      <td>1.96</td>\n",
       "      <td>21.2</td>\n",
       "      <td>0</td>\n",
       "      <td>4.300</td>\n",
       "    </tr>\n",
       "    <tr>\n",
       "      <th>148</th>\n",
       "      <td>Chinstrap</td>\n",
       "      <td>5.15</td>\n",
       "      <td>1.87</td>\n",
       "      <td>18.7</td>\n",
       "      <td>0</td>\n",
       "      <td>3.250</td>\n",
       "    </tr>\n",
       "    <tr>\n",
       "      <th>149</th>\n",
       "      <td>Chinstrap</td>\n",
       "      <td>4.98</td>\n",
       "      <td>1.73</td>\n",
       "      <td>19.8</td>\n",
       "      <td>1</td>\n",
       "      <td>3.675</td>\n",
       "    </tr>\n",
       "  </tbody>\n",
       "</table>\n",
       "<p>150 rows × 6 columns</p>\n",
       "</div>"
      ],
      "text/plain": [
       "       species  bill_length_mm  bill_depth_mm  flipper_length_mm  gender  \\\n",
       "0       Adelie            3.91           1.87               18.1       0   \n",
       "1       Adelie            3.95           1.74               18.6       1   \n",
       "2       Adelie            4.03           1.80               19.5       1   \n",
       "3       Adelie            3.96           1.77               18.6       1   \n",
       "4       Adelie            3.67           1.93               19.3       1   \n",
       "..         ...             ...            ...                ...     ...   \n",
       "145  Chinstrap            5.08           1.85               20.1       0   \n",
       "146  Chinstrap            5.01           1.79               19.0       1   \n",
       "147  Chinstrap            4.90           1.96               21.2       0   \n",
       "148  Chinstrap            5.15           1.87               18.7       0   \n",
       "149  Chinstrap            4.98           1.73               19.8       1   \n",
       "\n",
       "     body_mass_g  \n",
       "0          3.750  \n",
       "1          3.800  \n",
       "2          3.250  \n",
       "3          3.500  \n",
       "4          3.450  \n",
       "..           ...  \n",
       "145        4.450  \n",
       "146        3.400  \n",
       "147        4.300  \n",
       "148        3.250  \n",
       "149        3.675  \n",
       "\n",
       "[150 rows x 6 columns]"
      ]
     },
     "execution_count": 29,
     "metadata": {},
     "output_type": "execute_result"
    }
   ],
   "source": [
    "chinstrap = dataset[dataset['species']=='Chinstrap']\n",
    "processedDataset = pd.DataFrame()\n",
    "processedDataset = processedDataset.append([speciesWithNullEntries,chinstrap])\n",
    "processedDataset['gender'] = [1 if gender =='female' else 0 for gender in processedDataset['gender']]\n",
    "processedDataset"
   ]
  },
  {
   "cell_type": "code",
   "execution_count": 30,
   "id": "56e0919b",
   "metadata": {},
   "outputs": [
    {
     "data": {
      "text/plain": [
       "species              0\n",
       "bill_length_mm       0\n",
       "bill_depth_mm        0\n",
       "flipper_length_mm    0\n",
       "gender               0\n",
       "body_mass_g          0\n",
       "dtype: int64"
      ]
     },
     "execution_count": 30,
     "metadata": {},
     "output_type": "execute_result"
    }
   ],
   "source": [
    "processedDataset.isna().sum()"
   ]
  },
  {
   "cell_type": "code",
   "execution_count": 31,
   "id": "e1d85eca",
   "metadata": {},
   "outputs": [],
   "source": [
    "processedDataset.to_csv(\"processed-penguins.csv\",index = False)"
   ]
  }
 ],
 "metadata": {
  "kernelspec": {
   "display_name": "Python 3.9.7 ('MachineLearningCourse')",
   "language": "python",
   "name": "python3"
  },
  "language_info": {
   "codemirror_mode": {
    "name": "ipython",
    "version": 3
   },
   "file_extension": ".py",
   "mimetype": "text/x-python",
   "name": "python",
   "nbconvert_exporter": "python",
   "pygments_lexer": "ipython3",
   "version": "3.9.7"
  },
  "vscode": {
   "interpreter": {
    "hash": "98cbb155e88162c362a1507947084b1bfaa5d6726fb70a737b6767cdcee875c4"
   }
  }
 },
 "nbformat": 4,
 "nbformat_minor": 5
}
