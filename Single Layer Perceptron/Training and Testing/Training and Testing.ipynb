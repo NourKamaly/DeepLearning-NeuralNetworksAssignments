{
 "cells": [
  {
   "cell_type": "code",
   "execution_count": 174,
   "id": "dd7463f1",
   "metadata": {},
   "outputs": [],
   "source": [
    "import pandas as pd\n",
    "import numpy as np\n",
    "import random\n",
    "import matplotlib.pyplot as plt"
   ]
  },
  {
   "cell_type": "code",
   "execution_count": 175,
   "id": "aa18d672",
   "metadata": {},
   "outputs": [],
   "source": [
    "dataset = pd.read_csv('processed-penguins.csv')"
   ]
  },
  {
   "cell_type": "code",
   "execution_count": 176,
   "id": "3670ebd3",
   "metadata": {},
   "outputs": [
    {
     "data": {
      "text/html": [
       "<div>\n",
       "<style scoped>\n",
       "    .dataframe tbody tr th:only-of-type {\n",
       "        vertical-align: middle;\n",
       "    }\n",
       "\n",
       "    .dataframe tbody tr th {\n",
       "        vertical-align: top;\n",
       "    }\n",
       "\n",
       "    .dataframe thead th {\n",
       "        text-align: right;\n",
       "    }\n",
       "</style>\n",
       "<table border=\"1\" class=\"dataframe\">\n",
       "  <thead>\n",
       "    <tr style=\"text-align: right;\">\n",
       "      <th></th>\n",
       "      <th>species</th>\n",
       "      <th>bill_length_mm</th>\n",
       "      <th>bill_depth_mm</th>\n",
       "      <th>flipper_length_mm</th>\n",
       "      <th>gender</th>\n",
       "      <th>body_mass_g</th>\n",
       "    </tr>\n",
       "  </thead>\n",
       "  <tbody>\n",
       "    <tr>\n",
       "      <th>0</th>\n",
       "      <td>Adelie</td>\n",
       "      <td>39.1</td>\n",
       "      <td>18.7</td>\n",
       "      <td>0.181</td>\n",
       "      <td>0</td>\n",
       "      <td>3.750</td>\n",
       "    </tr>\n",
       "    <tr>\n",
       "      <th>1</th>\n",
       "      <td>Adelie</td>\n",
       "      <td>39.5</td>\n",
       "      <td>17.4</td>\n",
       "      <td>0.186</td>\n",
       "      <td>1</td>\n",
       "      <td>3.800</td>\n",
       "    </tr>\n",
       "    <tr>\n",
       "      <th>2</th>\n",
       "      <td>Adelie</td>\n",
       "      <td>40.3</td>\n",
       "      <td>18.0</td>\n",
       "      <td>0.195</td>\n",
       "      <td>1</td>\n",
       "      <td>3.250</td>\n",
       "    </tr>\n",
       "    <tr>\n",
       "      <th>3</th>\n",
       "      <td>Adelie</td>\n",
       "      <td>39.6</td>\n",
       "      <td>17.7</td>\n",
       "      <td>0.186</td>\n",
       "      <td>1</td>\n",
       "      <td>3.500</td>\n",
       "    </tr>\n",
       "    <tr>\n",
       "      <th>4</th>\n",
       "      <td>Adelie</td>\n",
       "      <td>36.7</td>\n",
       "      <td>19.3</td>\n",
       "      <td>0.193</td>\n",
       "      <td>1</td>\n",
       "      <td>3.450</td>\n",
       "    </tr>\n",
       "    <tr>\n",
       "      <th>...</th>\n",
       "      <td>...</td>\n",
       "      <td>...</td>\n",
       "      <td>...</td>\n",
       "      <td>...</td>\n",
       "      <td>...</td>\n",
       "      <td>...</td>\n",
       "    </tr>\n",
       "    <tr>\n",
       "      <th>145</th>\n",
       "      <td>Chinstrap</td>\n",
       "      <td>50.8</td>\n",
       "      <td>18.5</td>\n",
       "      <td>0.201</td>\n",
       "      <td>0</td>\n",
       "      <td>4.450</td>\n",
       "    </tr>\n",
       "    <tr>\n",
       "      <th>146</th>\n",
       "      <td>Chinstrap</td>\n",
       "      <td>50.1</td>\n",
       "      <td>17.9</td>\n",
       "      <td>0.190</td>\n",
       "      <td>1</td>\n",
       "      <td>3.400</td>\n",
       "    </tr>\n",
       "    <tr>\n",
       "      <th>147</th>\n",
       "      <td>Chinstrap</td>\n",
       "      <td>49.0</td>\n",
       "      <td>19.6</td>\n",
       "      <td>0.212</td>\n",
       "      <td>0</td>\n",
       "      <td>4.300</td>\n",
       "    </tr>\n",
       "    <tr>\n",
       "      <th>148</th>\n",
       "      <td>Chinstrap</td>\n",
       "      <td>51.5</td>\n",
       "      <td>18.7</td>\n",
       "      <td>0.187</td>\n",
       "      <td>0</td>\n",
       "      <td>3.250</td>\n",
       "    </tr>\n",
       "    <tr>\n",
       "      <th>149</th>\n",
       "      <td>Chinstrap</td>\n",
       "      <td>49.8</td>\n",
       "      <td>17.3</td>\n",
       "      <td>0.198</td>\n",
       "      <td>1</td>\n",
       "      <td>3.675</td>\n",
       "    </tr>\n",
       "  </tbody>\n",
       "</table>\n",
       "<p>150 rows × 6 columns</p>\n",
       "</div>"
      ],
      "text/plain": [
       "       species  bill_length_mm  bill_depth_mm  flipper_length_mm  gender  \\\n",
       "0       Adelie            39.1           18.7              0.181       0   \n",
       "1       Adelie            39.5           17.4              0.186       1   \n",
       "2       Adelie            40.3           18.0              0.195       1   \n",
       "3       Adelie            39.6           17.7              0.186       1   \n",
       "4       Adelie            36.7           19.3              0.193       1   \n",
       "..         ...             ...            ...                ...     ...   \n",
       "145  Chinstrap            50.8           18.5              0.201       0   \n",
       "146  Chinstrap            50.1           17.9              0.190       1   \n",
       "147  Chinstrap            49.0           19.6              0.212       0   \n",
       "148  Chinstrap            51.5           18.7              0.187       0   \n",
       "149  Chinstrap            49.8           17.3              0.198       1   \n",
       "\n",
       "     body_mass_g  \n",
       "0          3.750  \n",
       "1          3.800  \n",
       "2          3.250  \n",
       "3          3.500  \n",
       "4          3.450  \n",
       "..           ...  \n",
       "145        4.450  \n",
       "146        3.400  \n",
       "147        4.300  \n",
       "148        3.250  \n",
       "149        3.675  \n",
       "\n",
       "[150 rows x 6 columns]"
      ]
     },
     "execution_count": 176,
     "metadata": {},
     "output_type": "execute_result"
    }
   ],
   "source": [
    "dataset"
   ]
  },
  {
   "cell_type": "code",
   "execution_count": 177,
   "id": "7defde14",
   "metadata": {},
   "outputs": [],
   "source": [
    "col = list(dataset.columns.values)"
   ]
  },
  {
   "cell_type": "code",
   "execution_count": 178,
   "id": "6706d719",
   "metadata": {},
   "outputs": [],
   "source": [
    "dataset = dataset[col[1:]+[col[0]]]"
   ]
  },
  {
   "cell_type": "code",
   "execution_count": 179,
   "id": "790c477a",
   "metadata": {},
   "outputs": [],
   "source": [
    "Features = {1:'bill_length_mm',2:'bill_depth_mm',3:'flipper_length_mm',4:'gender',5:'body_mass_g'}"
   ]
  },
  {
   "cell_type": "code",
   "execution_count": 180,
   "id": "29da4270",
   "metadata": {},
   "outputs": [],
   "source": [
    "Species = {1:'Adelie',2:'Gentoo',3:'Chinstrap'}"
   ]
  },
  {
   "cell_type": "code",
   "execution_count": 181,
   "id": "55cce1cb",
   "metadata": {},
   "outputs": [],
   "source": [
    "def CreateTrainAndTestDataframes (class1, class2):\n",
    "    df1 = dataset[dataset['species']==Species[class1]]\n",
    "    df2 = dataset[dataset['species']==Species[class2]]\n",
    "    \n",
    "    df1_train = df1.sample(frac=0.6,random_state=1)\n",
    "    df2_train = df2.sample(frac=0.6,random_state=1)\n",
    "    \n",
    "    df1_test = df1.loc[~df1.index.isin(df1_train.index)]\n",
    "    df2_test = df2.loc[~df2.index.isin(df2_train.index)]\n",
    "    \n",
    "    result = df1_train.append(df2_train, ignore_index=True)\n",
    "    df_train = result.sample(frac=1, random_state=1).reset_index()\n",
    "    \n",
    "    Result = df1_test.append(df2_test, ignore_index=True)\n",
    "    df_test = Result.sample(frac=1, random_state=1).reset_index()\n",
    "    \n",
    "    return df_train,df_test"
   ]
  },
  {
   "cell_type": "code",
   "execution_count": 182,
   "id": "33dca531",
   "metadata": {},
   "outputs": [],
   "source": [
    "train, test = CreateTrainAndTestDataframes(1,2)"
   ]
  },
  {
   "cell_type": "code",
   "execution_count": 183,
   "id": "fc5c71aa",
   "metadata": {},
   "outputs": [],
   "source": [
    "def SelectFeatures(f1,f2):\n",
    "    X_train = train[[Features[f1],Features[f2]]]\n",
    "    X_test = test[[Features[f1],Features[f2]]]\n",
    "    \n",
    "    Y_train = train[['species']]\n",
    "    Y_test = test[['species']]\n",
    "    \n",
    "    return X_train, Y_train,X_test, Y_test"
   ]
  },
  {
   "cell_type": "code",
   "execution_count": 184,
   "id": "63fd0af5",
   "metadata": {},
   "outputs": [],
   "source": [
    "X_train, Y_train,X_test, Y_test= SelectFeatures(1,2)"
   ]
  },
  {
   "cell_type": "code",
   "execution_count": 185,
   "id": "d96414dd",
   "metadata": {},
   "outputs": [],
   "source": [
    "class Perceptron:\n",
    "    \n",
    "    def __init__(self, class1,class2, lr=0.01, epochs =1000, add_bias= True):\n",
    "        self.lr=lr\n",
    "        self.epochs=epochs\n",
    "        self.activation_function= self.signum_f\n",
    "        self.weights= None\n",
    "        self.bias= 0\n",
    "        self.add_bias= add_bias\n",
    "        self.class1=class1\n",
    "        self.class2=class2\n",
    "     \n",
    "        \n",
    "    def fit(self, X,Y):\n",
    "        M_samples, N_features= X.shape\n",
    "        \n",
    "        #init weights\n",
    "        w= np.zeros(N_features)\n",
    "        random.seed(0)\n",
    "        for i in range(N_features):\n",
    "            w[i]=random.random()\n",
    "        self.weights= w\n",
    "        if(self.add_bias):\n",
    "            self.bias= random.random()\n",
    "        \n",
    "        # convert y to 1 and -1\n",
    "        y_converted = Y.to_numpy()\n",
    "        y=np.array([1 if i==Species[self.class1] else -1 for i in y_converted])\n",
    "        \n",
    "        x= X.to_numpy()\n",
    "        for _ in range(self.epochs):\n",
    "            for indx, x_i in enumerate(x):\n",
    "                linear_output= np.dot(x_i,self.weights)\n",
    "                if(self.add_bias):\n",
    "                    linear_output+=self.bias\n",
    "                y_predict= self.activation_function(linear_output)\n",
    "                \n",
    "                update = self.lr * (y[indx]- y_predict)\n",
    "                self.weights += update * x_i\n",
    "                if(self.add_bias):\n",
    "                    self.bias+=update\n",
    "                \n",
    "    \n",
    "    # X is np array\n",
    "    def predict(self, X):\n",
    "        linear_out= np.dot(X,self.weights)\n",
    "        if(self.add_bias):\n",
    "            linear_out+=self.bias\n",
    "        y_predicted= self.activation_function(linear_out)\n",
    "        return y_predicted\n",
    "        \n",
    "    def signum_f(self, x):\n",
    "        return np.where(x>=0,1,-1)"
   ]
  },
  {
   "cell_type": "code",
   "execution_count": 186,
   "id": "49559f73",
   "metadata": {},
   "outputs": [],
   "source": [
    "# needing to conver y_true into into 1 and -1 np array\n",
    "def accuracy(y_true, y_predict):\n",
    "    acccuray= np.sum(y_true==y_predict)/ len(y_true)\n",
    "    return acccuray"
   ]
  },
  {
   "cell_type": "code",
   "execution_count": 200,
   "id": "5fa879c2",
   "metadata": {},
   "outputs": [],
   "source": [
    "p = Perceptron(1,2)\n",
    "p.fit(X_train,Y_train)\n",
    "predictions = p.predict(X_test)"
   ]
  },
  {
   "cell_type": "code",
   "execution_count": 201,
   "id": "a01450d6",
   "metadata": {},
   "outputs": [
    {
     "name": "stdout",
     "output_type": "stream",
     "text": [
      "aacuracy:  1.0\n"
     ]
    }
   ],
   "source": [
    "y_converted = Y_test.to_numpy()\n",
    "y=np.array([1 if i==Species[1] else -1 for i in y_converted])\n",
    "print(\"aacuracy: \", accuracy(y,predictions))"
   ]
  },
  {
   "cell_type": "code",
   "execution_count": 210,
   "id": "72d0c2ba",
   "metadata": {},
   "outputs": [
    {
     "data": {
      "image/png": "[encoded data removed]",
      "text/plain": [
       "<Figure size 432x288 with 1 Axes>"
      ]
     },
     "metadata": {
      "needs_background": "light"
     },
     "output_type": "display_data"
    }
   ],
   "source": [
    "xtrain = X_train.to_numpy()\n",
    "y_converted = Y_train.to_numpy()\n",
    "y=np.array([1 if i==Species[1] else -1 for i in y_converted])\n",
    "        \n",
    "\n",
    "fig= plt.figure()\n",
    "ax= fig.add_subplot(1,1,1)\n",
    "plt.scatter(xtrain[:,0],xtrain[:,1], marker='o', c=y)\n",
    "\n",
    "x01=np.amin(xtrain[:,0])\n",
    "x02=np.amax(xtrain[:,0])\n",
    "\n",
    "x11=(-p.weights[0]* x01 - p.bias)/ p.weights[1]\n",
    "x12=(-p.weights[0]* x02 - p.bias)/ p.weights[1]\n",
    "\n",
    "ax.plot([x01,x02],[x11,x12],'k')\n",
    "\n",
    "ymin= np.amin(xtrain[:,1])\n",
    "ymax =np.amax(xtrain[:,1])\n",
    "\n",
    "ax.set_ylim([ymin-3,ymax+3])\n",
    "\n",
    "plt.show()"
   ]
  },
  {
   "cell_type": "code",
   "execution_count": null,
   "id": "1024c14c",
   "metadata": {},
   "outputs": [],
   "source": []
  }
 ],
 "metadata": {
  "kernelspec": {
   "display_name": "Python 3",
   "language": "python",
   "name": "python3"
  },
  "language_info": {
   "codemirror_mode": {
    "name": "ipython",
    "version": 3
   },
   "file_extension": ".py",
   "mimetype": "text/x-python",
   "name": "python",
   "nbconvert_exporter": "python",
   "pygments_lexer": "ipython3",
   "version": "3.8.8"
  }
 },
 "nbformat": 4,
 "nbformat_minor": 5
}
