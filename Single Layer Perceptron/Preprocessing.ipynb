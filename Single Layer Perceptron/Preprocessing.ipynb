{
 "cells": [
  {
   "cell_type": "code",
   "execution_count": 1,
   "id": "d3adf80a",
   "metadata": {},
   "outputs": [],
   "source": [
    "import pandas as pd\n",
    "import matplotlib.pyplot as plt\n",
    "from scipy import stats"
   ]
  },
  {
   "cell_type": "code",
   "execution_count": 2,
   "id": "790d7345",
   "metadata": {},
   "outputs": [
    {
     "data": {
      "text/plain": [
       "(150, 6)"
      ]
     },
     "execution_count": 2,
     "metadata": {},
     "output_type": "execute_result"
    }
   ],
   "source": [
    "dataset = pd.read_csv('penguins.csv')\n",
    "dataset.shape"
   ]
  },
  {
   "cell_type": "code",
   "execution_count": 3,
   "id": "0aa2e1fa",
   "metadata": {},
   "outputs": [
    {
     "data": {
      "text/plain": [
       "species              0\n",
       "bill_length_mm       0\n",
       "bill_depth_mm        0\n",
       "flipper_length_mm    0\n",
       "gender               6\n",
       "body_mass_g          0\n",
       "dtype: int64"
      ]
     },
     "execution_count": 3,
     "metadata": {},
     "output_type": "execute_result"
    }
   ],
   "source": [
    "dataset.isna().sum()"
   ]
  },
  {
   "cell_type": "markdown",
   "id": "5c0f5980",
   "metadata": {},
   "source": [
    "Since the null values are small and in one feature only, we can make a predictive machine learning model that can classify the gender based on the other features and the label (species) after we process the other features for the best learning, also we can train it only on the species of type Adelie and Gentoo as the null values exist only in them "
   ]
  },
  {
   "cell_type": "code",
   "execution_count": 4,
   "id": "12314f2a",
   "metadata": {},
   "outputs": [],
   "source": [
    "mask = dataset['gender'].isnull()==True\n",
    "nullEntries = dataset[mask]"
   ]
  },
  {
   "cell_type": "code",
   "execution_count": 5,
   "id": "2c7e6b32",
   "metadata": {},
   "outputs": [
    {
     "data": {
      "text/html": [
       "<div>\n",
       "<style scoped>\n",
       "    .dataframe tbody tr th:only-of-type {\n",
       "        vertical-align: middle;\n",
       "    }\n",
       "\n",
       "    .dataframe tbody tr th {\n",
       "        vertical-align: top;\n",
       "    }\n",
       "\n",
       "    .dataframe thead th {\n",
       "        text-align: right;\n",
       "    }\n",
       "</style>\n",
       "<table border=\"1\" class=\"dataframe\">\n",
       "  <thead>\n",
       "    <tr style=\"text-align: right;\">\n",
       "      <th></th>\n",
       "      <th>species</th>\n",
       "      <th>bill_length_mm</th>\n",
       "      <th>bill_depth_mm</th>\n",
       "      <th>flipper_length_mm</th>\n",
       "      <th>gender</th>\n",
       "      <th>body_mass_g</th>\n",
       "    </tr>\n",
       "  </thead>\n",
       "  <tbody>\n",
       "    <tr>\n",
       "      <th>8</th>\n",
       "      <td>Adelie</td>\n",
       "      <td>34.1</td>\n",
       "      <td>18.1</td>\n",
       "      <td>193</td>\n",
       "      <td>NaN</td>\n",
       "      <td>3475</td>\n",
       "    </tr>\n",
       "    <tr>\n",
       "      <th>9</th>\n",
       "      <td>Adelie</td>\n",
       "      <td>42.0</td>\n",
       "      <td>20.2</td>\n",
       "      <td>190</td>\n",
       "      <td>NaN</td>\n",
       "      <td>4250</td>\n",
       "    </tr>\n",
       "    <tr>\n",
       "      <th>10</th>\n",
       "      <td>Adelie</td>\n",
       "      <td>37.8</td>\n",
       "      <td>17.1</td>\n",
       "      <td>186</td>\n",
       "      <td>NaN</td>\n",
       "      <td>3300</td>\n",
       "    </tr>\n",
       "    <tr>\n",
       "      <th>11</th>\n",
       "      <td>Adelie</td>\n",
       "      <td>37.8</td>\n",
       "      <td>17.3</td>\n",
       "      <td>180</td>\n",
       "      <td>NaN</td>\n",
       "      <td>3700</td>\n",
       "    </tr>\n",
       "    <tr>\n",
       "      <th>47</th>\n",
       "      <td>Adelie</td>\n",
       "      <td>37.5</td>\n",
       "      <td>18.9</td>\n",
       "      <td>179</td>\n",
       "      <td>NaN</td>\n",
       "      <td>2975</td>\n",
       "    </tr>\n",
       "    <tr>\n",
       "      <th>76</th>\n",
       "      <td>Gentoo</td>\n",
       "      <td>44.5</td>\n",
       "      <td>14.3</td>\n",
       "      <td>216</td>\n",
       "      <td>NaN</td>\n",
       "      <td>4100</td>\n",
       "    </tr>\n",
       "  </tbody>\n",
       "</table>\n",
       "</div>"
      ],
      "text/plain": [
       "   species  bill_length_mm  bill_depth_mm  flipper_length_mm gender  \\\n",
       "8   Adelie            34.1           18.1                193    NaN   \n",
       "9   Adelie            42.0           20.2                190    NaN   \n",
       "10  Adelie            37.8           17.1                186    NaN   \n",
       "11  Adelie            37.8           17.3                180    NaN   \n",
       "47  Adelie            37.5           18.9                179    NaN   \n",
       "76  Gentoo            44.5           14.3                216    NaN   \n",
       "\n",
       "    body_mass_g  \n",
       "8          3475  \n",
       "9          4250  \n",
       "10         3300  \n",
       "11         3700  \n",
       "47         2975  \n",
       "76         4100  "
      ]
     },
     "execution_count": 5,
     "metadata": {},
     "output_type": "execute_result"
    }
   ],
   "source": [
    "nullEntries"
   ]
  },
  {
   "cell_type": "markdown",
   "id": "9f381839",
   "metadata": {},
   "source": [
    "Checking data normality in python: https://www.youtube.com/watch?v=12qn03Ml87E"
   ]
  },
  {
   "cell_type": "code",
   "execution_count": 16,
   "id": "fc65ea92",
   "metadata": {},
   "outputs": [],
   "source": [
    "def getAndVisualizeSkewness(feature):\n",
    "    print(\"Visualizing feature {feature}\".format(feature=feature))\n",
    "    plt.hist(dataset[feature])\n",
    "    plt.show()\n",
    "    print(\"{feature} is skewed by {skew}\".format(feature = feature, skew = stats.skew(dataset[feature])))\n",
    "    print('-'*40)"
   ]
  },
  {
   "cell_type": "code",
   "execution_count": 17,
   "id": "62e3899f",
   "metadata": {},
   "outputs": [],
   "source": [
    "numericalFeatures=['bill_length_mm','bill_depth_mm','flipper_length_mm','body_mass_g']"
   ]
  },
  {
   "cell_type": "code",
   "execution_count": 20,
   "id": "7ef7fcf7",
   "metadata": {},
   "outputs": [
    {
     "name": "stdout",
     "output_type": "stream",
     "text": [
      "Visualizing feature bill_length_mm\n"
     ]
    },
    {
     "data": {
      "image/png": "[encoded data removed]",
      "text/plain": [
       "<Figure size 432x288 with 1 Axes>"
      ]
     },
     "metadata": {
      "needs_background": "light"
     },
     "output_type": "display_data"
    },
    {
     "name": "stdout",
     "output_type": "stream",
     "text": [
      "bill_length_mm is skewed by -0.06641719610055938\n",
      "----------------------------------------\n",
      "Visualizing feature bill_depth_mm\n"
     ]
    },
    {
     "data": {
      "image/png": "[encoded data removed]",
      "text/plain": [
       "<Figure size 432x288 with 1 Axes>"
      ]
     },
     "metadata": {
      "needs_background": "light"
     },
     "output_type": "display_data"
    },
    {
     "name": "stdout",
     "output_type": "stream",
     "text": [
      "bill_depth_mm is skewed by -0.27593119719466996\n",
      "----------------------------------------\n",
      "Visualizing feature flipper_length_mm\n"
     ]
    },
    {
     "data": {
      "image/png": "[encoded data removed]",
      "text/plain": [
       "<Figure size 432x288 with 1 Axes>"
      ]
     },
     "metadata": {
      "needs_background": "light"
     },
     "output_type": "display_data"
    },
    {
     "name": "stdout",
     "output_type": "stream",
     "text": [
      "flipper_length_mm is skewed by 0.2560871930501646\n",
      "----------------------------------------\n",
      "Visualizing feature body_mass_g\n"
     ]
    },
    {
     "data": {
      "image/png": "[encoded data removed]",
      "text/plain": [
       "<Figure size 432x288 with 1 Axes>"
      ]
     },
     "metadata": {
      "needs_background": "light"
     },
     "output_type": "display_data"
    },
    {
     "name": "stdout",
     "output_type": "stream",
     "text": [
      "body_mass_g is skewed by 0.6280893933409006\n",
      "----------------------------------------\n"
     ]
    }
   ],
   "source": [
    "for feature in numericalFeatures:\n",
    "    getAndVisualizeSkewness(feature)"
   ]
  }
 ],
 "metadata": {
  "kernelspec": {
   "display_name": "Python 3 (ipykernel)",
   "language": "python",
   "name": "python3"
  },
  "language_info": {
   "codemirror_mode": {
    "name": "ipython",
    "version": 3
   },
   "file_extension": ".py",
   "mimetype": "text/x-python",
   "name": "python",
   "nbconvert_exporter": "python",
   "pygments_lexer": "ipython3",
   "version": "3.9.7"
  }
 },
 "nbformat": 4,
 "nbformat_minor": 5
}
